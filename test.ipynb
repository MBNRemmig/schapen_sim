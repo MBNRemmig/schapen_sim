{
 "cells": [
  {
   "cell_type": "code",
   "execution_count": 9,
   "metadata": {},
   "outputs": [],
   "source": [
    "import numpy as np\n",
    "import matplotlib.pyplot as plt\n",
    "import pandas as pd\n",
    "import os as os"
   ]
  },
  {
   "cell_type": "code",
   "execution_count": 2,
   "metadata": {},
   "outputs": [
    {
     "data": {
      "text/plain": [
       "4.0"
      ]
     },
     "execution_count": 2,
     "metadata": {},
     "output_type": "execute_result"
    }
   ],
   "source": [
    "def pythagoras_func(a,b,long_side=False):\n",
    "    if long_side==True: \n",
    "        c=np.maximum(a,b)\n",
    "        d=np.minimum(a,b)\n",
    "        return np.sqrt(c*c-d*d)\n",
    "    if long_side==False:\n",
    "        return np.sqrt(a*a+b*b)\n",
    "pythagoras_func(3,5,True)\n"
   ]
  },
  {
   "cell_type": "code",
   "execution_count": 3,
   "metadata": {
    "scrolled": true
   },
   "outputs": [
    {
     "data": {
      "image/png": "[encoded data removed]",
      "text/plain": [
       "<Figure size 432x288 with 1 Axes>"
      ]
     },
     "metadata": {
      "needs_background": "light"
     },
     "output_type": "display_data"
    }
   ],
   "source": [
    "import matplotlib.pyplot as plt\n",
    "year=[1,2,3,4,5,6,7,8,9,10]\n",
    "population=[18,28,34,30,30,32,30,30,33,40]\n",
    "plt.plot(year, population, color='red')\n",
    "plt.xlabel('Years')\n",
    "plt.ylabel('Population')\n",
    "plt.title('Sheep population')\n",
    "plt.show()"
   ]
  },
  {
   "cell_type": "code",
   "execution_count": 10,
   "metadata": {},
   "outputs": [
    {
     "name": "stdout",
     "output_type": "stream",
     "text": [
      "   Jaar simulatie  Ouderdom  Verhongering  Slacht  Wol (kg)  Melk (L)  \\\n",
      "0               1         0             0       2        15         0   \n",
      "1               2         0             0       2        12        92   \n",
      "2               3         0             0       2        16       156   \n",
      "3               4         0             3       7        25       231   \n",
      "4               5         0             5       7        30       184   \n",
      "5               6         0             6       7        34       167   \n",
      "6               7         0             5       7        30       163   \n",
      "7               8         0             4       7        34       262   \n",
      "8               9         0            21       7        40       292   \n",
      "9              10         0             0       5        30       133   \n",
      "\n",
      "   Populatie  Miskraam  Lammetjes  Vlees (kg)  Ziekte  Sterfte per jaar  \\\n",
      "0         12         0          0          30       1                 3   \n",
      "1         16         0          9          30       3                 5   \n",
      "2         25         1         12          30       1                 3   \n",
      "3         30         2         16         105       1                11   \n",
      "4         34         0         18         105       2                14   \n",
      "5         30         1         13         105       4                17   \n",
      "6         34         0         16         105       0                12   \n",
      "7         40         2         19         105       2                13   \n",
      "8         30         2         22         105       4                32   \n",
      "9         38         0         13          75       0                 5   \n",
      "\n",
      "   Sterfte totaal   Unnamed: 13  \n",
      "0            53.0        Slacht  \n",
      "1             0.0      Ouderdom  \n",
      "2            44.0  Verhongering  \n",
      "3            18.0        Ziekte  \n",
      "4             NaN           NaN  \n",
      "5             NaN           NaN  \n",
      "6             NaN           NaN  \n",
      "7             NaN           NaN  \n",
      "8             NaN           NaN  \n",
      "9             NaN           NaN  \n"
     ]
    }
   ],
   "source": [
    "schapen_sim = pd.read_csv('/mnt/c/Users/Gebruiker/Documents/schapenpandas.csv',delimiter=';')\n",
    "print(schapen_sim)\n",
    "\n",
    "\n",
    "\n",
    "\n"
   ]
  },
  {
   "cell_type": "code",
   "execution_count": 11,
   "metadata": {},
   "outputs": [
    {
     "data": {
      "text/html": [
       "<div>\n",
       "<style scoped>\n",
       "    .dataframe tbody tr th:only-of-type {\n",
       "        vertical-align: middle;\n",
       "    }\n",
       "\n",
       "    .dataframe tbody tr th {\n",
       "        vertical-align: top;\n",
       "    }\n",
       "\n",
       "    .dataframe thead th {\n",
       "        text-align: right;\n",
       "    }\n",
       "</style>\n",
       "<table border=\"1\" class=\"dataframe\">\n",
       "  <thead>\n",
       "    <tr style=\"text-align: right;\">\n",
       "      <th></th>\n",
       "      <th>Slacht</th>\n",
       "    </tr>\n",
       "  </thead>\n",
       "  <tbody>\n",
       "    <tr>\n",
       "      <th>0</th>\n",
       "      <td>2</td>\n",
       "    </tr>\n",
       "    <tr>\n",
       "      <th>1</th>\n",
       "      <td>2</td>\n",
       "    </tr>\n",
       "    <tr>\n",
       "      <th>2</th>\n",
       "      <td>2</td>\n",
       "    </tr>\n",
       "    <tr>\n",
       "      <th>3</th>\n",
       "      <td>7</td>\n",
       "    </tr>\n",
       "    <tr>\n",
       "      <th>4</th>\n",
       "      <td>7</td>\n",
       "    </tr>\n",
       "    <tr>\n",
       "      <th>5</th>\n",
       "      <td>7</td>\n",
       "    </tr>\n",
       "    <tr>\n",
       "      <th>6</th>\n",
       "      <td>7</td>\n",
       "    </tr>\n",
       "    <tr>\n",
       "      <th>7</th>\n",
       "      <td>7</td>\n",
       "    </tr>\n",
       "    <tr>\n",
       "      <th>8</th>\n",
       "      <td>7</td>\n",
       "    </tr>\n",
       "    <tr>\n",
       "      <th>9</th>\n",
       "      <td>5</td>\n",
       "    </tr>\n",
       "  </tbody>\n",
       "</table>\n",
       "</div>"
      ],
      "text/plain": [
       "   Slacht\n",
       "0       2\n",
       "1       2\n",
       "2       2\n",
       "3       7\n",
       "4       7\n",
       "5       7\n",
       "6       7\n",
       "7       7\n",
       "8       7\n",
       "9       5"
      ]
     },
     "execution_count": 11,
     "metadata": {},
     "output_type": "execute_result"
    }
   ],
   "source": [
    "schapen_sim[['Slacht']]\n",
    "\n",
    "\n"
   ]
  },
  {
   "cell_type": "code",
   "execution_count": 19,
   "metadata": {},
   "outputs": [
    {
     "name": "stdout",
     "output_type": "stream",
     "text": [
      "[2, 2, 2, 7, 7, 7, 7, 7, 7, 5]\n",
      "[1, 2, 3, 4, 5, 6, 7, 8, 9, 10]\n"
     ]
    }
   ],
   "source": [
    "schapen_sim_slacht = schapen_sim['Slacht'].tolist()\n",
    "schapen_sim_jaar = schapen_sim['Jaar simulatie'].tolist()\n",
    "\n",
    "print(schapen_sim_slacht)\n",
    "print(schapen_sim_jaar)\n"
   ]
  },
  {
   "cell_type": "code",
   "execution_count": 23,
   "metadata": {},
   "outputs": [
    {
     "data": {
      "image/png": "[encoded data removed]",
      "text/plain": [
       "<Figure size 432x288 with 1 Axes>"
      ]
     },
     "metadata": {
      "needs_background": "light"
     },
     "output_type": "display_data"
    }
   ],
   "source": [
    "import matplotlib.pyplot as plt\n",
    "year=schapen_sim_jaar\n",
    "population=schapen_sim_slacht\n",
    "plt.plot(year, population, color='red')\n",
    "plt.xlabel('Jaar')\n",
    "plt.ylabel('Slacht')\n",
    "plt.title('Slachtingen per jaar')\n",
    "plt.show()"
   ]
  },
  {
   "cell_type": "code",
   "execution_count": null,
   "metadata": {},
   "outputs": [],
   "source": []
  }
 ],
 "metadata": {
  "kernelspec": {
   "display_name": "Python 3",
   "language": "python",
   "name": "python3"
  },
  "language_info": {
   "codemirror_mode": {
    "name": "ipython",
    "version": 3
   },
   "file_extension": ".py",
   "mimetype": "text/x-python",
   "name": "python",
   "nbconvert_exporter": "python",
   "pygments_lexer": "ipython3",
   "version": "3.6.8"
  }
 },
 "nbformat": 4,
 "nbformat_minor": 2
}
